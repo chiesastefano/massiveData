{
 "cells": [
  {
   "metadata": {},
   "cell_type": "markdown",
   "source": [
    "# Title\n",
    "\n",
    "Project website: https://docs.google.com/document/d/1GkK28wOyjTPZEZuOumKPU0z1NzVT_9sxETjPOcLPVYo/edit?tab=t.0#heading=h.qifoo7co6qtd\n",
    "\n",
    "Professor website: https://malchiodi.di.unimi.it/teaching/AMD-DSE/2024-25/en"
   ],
   "id": "8a77807f92f26ee"
  },
  {
   "metadata": {},
   "cell_type": "code",
   "outputs": [],
   "execution_count": null,
   "source": [
    "# Download the dataset from Kaggle\n",
    "import os\n",
    "os.environ['KAGGLE_USERNAME'] = \"ilchurch\"\n",
    "os.environ['KAGGLE_KEY'] = \"83121e6473aadddd2fd07e6e1e236866\"\n",
    "!kaggle datasets download -d mohamedbakhet/amazon-books-reviews"
   ],
   "id": "9edc57113f58ee11"
  },
  {
   "metadata": {
    "ExecuteTime": {
     "end_time": "2025-04-08T12:57:56.993484Z",
     "start_time": "2025-04-08T12:57:21.055889Z"
    }
   },
   "cell_type": "code",
   "source": [
    "# Unzip the downloaded dataset\n",
    "import zipfile\n",
    "\n",
    "with zipfile.ZipFile(\"amazon-books-reviews.zip\", \"r\") as zip_ref:\n",
    "    zip_ref.extractall(\"amazon_books_data\")"
   ],
   "id": "d37fab52282c5886",
   "outputs": [],
   "execution_count": 5
  },
  {
   "metadata": {
    "ExecuteTime": {
     "end_time": "2025-04-08T13:02:54.571166Z",
     "start_time": "2025-04-08T13:02:53.929842Z"
    }
   },
   "cell_type": "code",
   "source": [
    "# amazon_books_data\n",
    "# The dataset contains the following files:\n",
    "# - books_data.csv: \n",
    "# - Books_rating.csv:"
   ],
   "id": "aca7278898d62aff",
   "outputs": [],
   "execution_count": 6
  }
 ],
 "metadata": {
  "kernelspec": {
   "display_name": "Python 3",
   "language": "python",
   "name": "python3"
  },
  "language_info": {
   "codemirror_mode": {
    "name": "ipython",
    "version": 2
   },
   "file_extension": ".py",
   "mimetype": "text/x-python",
   "name": "python",
   "nbconvert_exporter": "python",
   "pygments_lexer": "ipython2",
   "version": "2.7.6"
  }
 },
 "nbformat": 4,
 "nbformat_minor": 5
}
