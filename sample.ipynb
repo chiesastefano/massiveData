{
<<<<<<< Updated upstream
  "cells": [
    {
      "metadata": {
        "id": "8a77807f92f26ee"
      },
      "cell_type": "markdown",
      "source": [
        "# Title\n",
        "\n",
        "Project website: https://docs.google.com/document/d/1GkK28wOyjTPZEZuOumKPU0z1NzVT_9sxETjPOcLPVYo/edit?tab=t.0#heading=h.qifoo7co6qtd\n",
        "\n",
        "Professor website: https://malchiodi.di.unimi.it/teaching/AMD-DSE/2024-25/en"
      ],
      "id": "8a77807f92f26ee"
    },
    {
      "cell_type": "code",
      "source": [
        "!git clone https://github.com/chiesastefano/massiveData"
      ],
      "metadata": {
        "colab": {
          "base_uri": "https://localhost:8080/"
        },
        "id": "yaWockYHSXJF",
        "outputId": "e0a875df-a345-4e5f-ccdb-a0d315834ae3"
      },
      "id": "yaWockYHSXJF",
      "execution_count": 21,
      "outputs": [
        {
          "output_type": "stream",
          "name": "stdout",
          "text": [
            "fatal: destination path 'massiveData' already exists and is not an empty directory.\n"
          ]
        }
      ]
    },
    {
      "metadata": {
        "ExecuteTime": {
          "end_time": "2025-04-30T09:39:43.179106Z",
          "start_time": "2025-04-30T09:38:35.291251Z"
        },
        "id": "4b98cbd80fe8cd48",
        "colab": {
          "base_uri": "https://localhost:8080/"
        },
        "outputId": "b83b35a1-7bd8-402b-e73d-8153d1875591"
      },
      "cell_type": "code",
      "source": [
        "# Install required packages from the requirement.txt file if not already installed\n",
        "!pip install -r massiveData/requirements.txt"
      ],
      "id": "4b98cbd80fe8cd48",
      "outputs": [
        {
          "output_type": "stream",
          "name": "stdout",
          "text": [
            "Requirement already satisfied: kaggle in /usr/local/lib/python3.11/dist-packages (from -r massiveData/requirements.txt (line 1)) (1.7.4.2)\n",
            "Requirement already satisfied: scikit-learn in /usr/local/lib/python3.11/dist-packages (from -r massiveData/requirements.txt (line 2)) (1.6.1)\n",
            "Requirement already satisfied: numpy in /usr/local/lib/python3.11/dist-packages (from -r massiveData/requirements.txt (line 3)) (2.0.2)\n",
            "Requirement already satisfied: spacy in /usr/local/lib/python3.11/dist-packages (from -r massiveData/requirements.txt (line 4)) (3.8.5)\n",
            "Requirement already satisfied: pyspark in /usr/local/lib/python3.11/dist-packages (from -r massiveData/requirements.txt (line 5)) (3.5.5)\n",
            "Requirement already satisfied: nltk in /usr/local/lib/python3.11/dist-packages (from -r massiveData/requirements.txt (line 6)) (3.9.1)\n",
            "Requirement already satisfied: bleach in /usr/local/lib/python3.11/dist-packages (from kaggle->-r massiveData/requirements.txt (line 1)) (6.2.0)\n",
            "Requirement already satisfied: certifi>=14.05.14 in /usr/local/lib/python3.11/dist-packages (from kaggle->-r massiveData/requirements.txt (line 1)) (2025.1.31)\n",
            "Requirement already satisfied: charset-normalizer in /usr/local/lib/python3.11/dist-packages (from kaggle->-r massiveData/requirements.txt (line 1)) (3.4.1)\n",
            "Requirement already satisfied: idna in /usr/local/lib/python3.11/dist-packages (from kaggle->-r massiveData/requirements.txt (line 1)) (3.10)\n",
            "Requirement already satisfied: protobuf in /usr/local/lib/python3.11/dist-packages (from kaggle->-r massiveData/requirements.txt (line 1)) (5.29.4)\n",
            "Requirement already satisfied: python-dateutil>=2.5.3 in /usr/local/lib/python3.11/dist-packages (from kaggle->-r massiveData/requirements.txt (line 1)) (2.9.0.post0)\n",
            "Requirement already satisfied: python-slugify in /usr/local/lib/python3.11/dist-packages (from kaggle->-r massiveData/requirements.txt (line 1)) (8.0.4)\n",
            "Requirement already satisfied: requests in /usr/local/lib/python3.11/dist-packages (from kaggle->-r massiveData/requirements.txt (line 1)) (2.32.3)\n",
            "Requirement already satisfied: setuptools>=21.0.0 in /usr/local/lib/python3.11/dist-packages (from kaggle->-r massiveData/requirements.txt (line 1)) (75.2.0)\n",
            "Requirement already satisfied: six>=1.10 in /usr/local/lib/python3.11/dist-packages (from kaggle->-r massiveData/requirements.txt (line 1)) (1.17.0)\n",
            "Requirement already satisfied: text-unidecode in /usr/local/lib/python3.11/dist-packages (from kaggle->-r massiveData/requirements.txt (line 1)) (1.3)\n",
            "Requirement already satisfied: tqdm in /usr/local/lib/python3.11/dist-packages (from kaggle->-r massiveData/requirements.txt (line 1)) (4.67.1)\n",
            "Requirement already satisfied: urllib3>=1.15.1 in /usr/local/lib/python3.11/dist-packages (from kaggle->-r massiveData/requirements.txt (line 1)) (2.4.0)\n",
            "Requirement already satisfied: webencodings in /usr/local/lib/python3.11/dist-packages (from kaggle->-r massiveData/requirements.txt (line 1)) (0.5.1)\n",
            "Requirement already satisfied: scipy>=1.6.0 in /usr/local/lib/python3.11/dist-packages (from scikit-learn->-r massiveData/requirements.txt (line 2)) (1.15.2)\n",
            "Requirement already satisfied: joblib>=1.2.0 in /usr/local/lib/python3.11/dist-packages (from scikit-learn->-r massiveData/requirements.txt (line 2)) (1.4.2)\n",
            "Requirement already satisfied: threadpoolctl>=3.1.0 in /usr/local/lib/python3.11/dist-packages (from scikit-learn->-r massiveData/requirements.txt (line 2)) (3.6.0)\n",
            "Requirement already satisfied: spacy-legacy<3.1.0,>=3.0.11 in /usr/local/lib/python3.11/dist-packages (from spacy->-r massiveData/requirements.txt (line 4)) (3.0.12)\n",
            "Requirement already satisfied: spacy-loggers<2.0.0,>=1.0.0 in /usr/local/lib/python3.11/dist-packages (from spacy->-r massiveData/requirements.txt (line 4)) (1.0.5)\n",
            "Requirement already satisfied: murmurhash<1.1.0,>=0.28.0 in /usr/local/lib/python3.11/dist-packages (from spacy->-r massiveData/requirements.txt (line 4)) (1.0.12)\n",
            "Requirement already satisfied: cymem<2.1.0,>=2.0.2 in /usr/local/lib/python3.11/dist-packages (from spacy->-r massiveData/requirements.txt (line 4)) (2.0.11)\n",
            "Requirement already satisfied: preshed<3.1.0,>=3.0.2 in /usr/local/lib/python3.11/dist-packages (from spacy->-r massiveData/requirements.txt (line 4)) (3.0.9)\n",
            "Requirement already satisfied: thinc<8.4.0,>=8.3.4 in /usr/local/lib/python3.11/dist-packages (from spacy->-r massiveData/requirements.txt (line 4)) (8.3.6)\n",
            "Requirement already satisfied: wasabi<1.2.0,>=0.9.1 in /usr/local/lib/python3.11/dist-packages (from spacy->-r massiveData/requirements.txt (line 4)) (1.1.3)\n",
            "Requirement already satisfied: srsly<3.0.0,>=2.4.3 in /usr/local/lib/python3.11/dist-packages (from spacy->-r massiveData/requirements.txt (line 4)) (2.5.1)\n",
            "Requirement already satisfied: catalogue<2.1.0,>=2.0.6 in /usr/local/lib/python3.11/dist-packages (from spacy->-r massiveData/requirements.txt (line 4)) (2.0.10)\n",
            "Requirement already satisfied: weasel<0.5.0,>=0.1.0 in /usr/local/lib/python3.11/dist-packages (from spacy->-r massiveData/requirements.txt (line 4)) (0.4.1)\n",
            "Requirement already satisfied: typer<1.0.0,>=0.3.0 in /usr/local/lib/python3.11/dist-packages (from spacy->-r massiveData/requirements.txt (line 4)) (0.15.2)\n",
            "Requirement already satisfied: pydantic!=1.8,!=1.8.1,<3.0.0,>=1.7.4 in /usr/local/lib/python3.11/dist-packages (from spacy->-r massiveData/requirements.txt (line 4)) (2.11.3)\n",
            "Requirement already satisfied: jinja2 in /usr/local/lib/python3.11/dist-packages (from spacy->-r massiveData/requirements.txt (line 4)) (3.1.6)\n",
            "Requirement already satisfied: packaging>=20.0 in /usr/local/lib/python3.11/dist-packages (from spacy->-r massiveData/requirements.txt (line 4)) (24.2)\n",
            "Requirement already satisfied: langcodes<4.0.0,>=3.2.0 in /usr/local/lib/python3.11/dist-packages (from spacy->-r massiveData/requirements.txt (line 4)) (3.5.0)\n",
            "Requirement already satisfied: py4j==0.10.9.7 in /usr/local/lib/python3.11/dist-packages (from pyspark->-r massiveData/requirements.txt (line 5)) (0.10.9.7)\n",
            "Requirement already satisfied: click in /usr/local/lib/python3.11/dist-packages (from nltk->-r massiveData/requirements.txt (line 6)) (8.1.8)\n",
            "Requirement already satisfied: regex>=2021.8.3 in /usr/local/lib/python3.11/dist-packages (from nltk->-r massiveData/requirements.txt (line 6)) (2024.11.6)\n",
            "Requirement already satisfied: language-data>=1.2 in /usr/local/lib/python3.11/dist-packages (from langcodes<4.0.0,>=3.2.0->spacy->-r massiveData/requirements.txt (line 4)) (1.3.0)\n",
            "Requirement already satisfied: annotated-types>=0.6.0 in /usr/local/lib/python3.11/dist-packages (from pydantic!=1.8,!=1.8.1,<3.0.0,>=1.7.4->spacy->-r massiveData/requirements.txt (line 4)) (0.7.0)\n",
            "Requirement already satisfied: pydantic-core==2.33.1 in /usr/local/lib/python3.11/dist-packages (from pydantic!=1.8,!=1.8.1,<3.0.0,>=1.7.4->spacy->-r massiveData/requirements.txt (line 4)) (2.33.1)\n",
            "Requirement already satisfied: typing-extensions>=4.12.2 in /usr/local/lib/python3.11/dist-packages (from pydantic!=1.8,!=1.8.1,<3.0.0,>=1.7.4->spacy->-r massiveData/requirements.txt (line 4)) (4.13.2)\n",
            "Requirement already satisfied: typing-inspection>=0.4.0 in /usr/local/lib/python3.11/dist-packages (from pydantic!=1.8,!=1.8.1,<3.0.0,>=1.7.4->spacy->-r massiveData/requirements.txt (line 4)) (0.4.0)\n",
            "Requirement already satisfied: blis<1.4.0,>=1.3.0 in /usr/local/lib/python3.11/dist-packages (from thinc<8.4.0,>=8.3.4->spacy->-r massiveData/requirements.txt (line 4)) (1.3.0)\n",
            "Requirement already satisfied: confection<1.0.0,>=0.0.1 in /usr/local/lib/python3.11/dist-packages (from thinc<8.4.0,>=8.3.4->spacy->-r massiveData/requirements.txt (line 4)) (0.1.5)\n",
            "Requirement already satisfied: shellingham>=1.3.0 in /usr/local/lib/python3.11/dist-packages (from typer<1.0.0,>=0.3.0->spacy->-r massiveData/requirements.txt (line 4)) (1.5.4)\n",
            "Requirement already satisfied: rich>=10.11.0 in /usr/local/lib/python3.11/dist-packages (from typer<1.0.0,>=0.3.0->spacy->-r massiveData/requirements.txt (line 4)) (13.9.4)\n",
            "Requirement already satisfied: cloudpathlib<1.0.0,>=0.7.0 in /usr/local/lib/python3.11/dist-packages (from weasel<0.5.0,>=0.1.0->spacy->-r massiveData/requirements.txt (line 4)) (0.21.0)\n",
            "Requirement already satisfied: smart-open<8.0.0,>=5.2.1 in /usr/local/lib/python3.11/dist-packages (from weasel<0.5.0,>=0.1.0->spacy->-r massiveData/requirements.txt (line 4)) (7.1.0)\n",
            "Requirement already satisfied: MarkupSafe>=2.0 in /usr/local/lib/python3.11/dist-packages (from jinja2->spacy->-r massiveData/requirements.txt (line 4)) (3.0.2)\n",
            "Requirement already satisfied: marisa-trie>=1.1.0 in /usr/local/lib/python3.11/dist-packages (from language-data>=1.2->langcodes<4.0.0,>=3.2.0->spacy->-r massiveData/requirements.txt (line 4)) (1.2.1)\n",
            "Requirement already satisfied: markdown-it-py>=2.2.0 in /usr/local/lib/python3.11/dist-packages (from rich>=10.11.0->typer<1.0.0,>=0.3.0->spacy->-r massiveData/requirements.txt (line 4)) (3.0.0)\n",
            "Requirement already satisfied: pygments<3.0.0,>=2.13.0 in /usr/local/lib/python3.11/dist-packages (from rich>=10.11.0->typer<1.0.0,>=0.3.0->spacy->-r massiveData/requirements.txt (line 4)) (2.19.1)\n",
            "Requirement already satisfied: wrapt in /usr/local/lib/python3.11/dist-packages (from smart-open<8.0.0,>=5.2.1->weasel<0.5.0,>=0.1.0->spacy->-r massiveData/requirements.txt (line 4)) (1.17.2)\n",
            "Requirement already satisfied: mdurl~=0.1 in /usr/local/lib/python3.11/dist-packages (from markdown-it-py>=2.2.0->rich>=10.11.0->typer<1.0.0,>=0.3.0->spacy->-r massiveData/requirements.txt (line 4)) (0.1.2)\n"
          ]
        }
      ],
      "execution_count": 23
    },
    {
      "metadata": {
        "id": "5e02fb13e986f4bc"
      },
      "cell_type": "markdown",
      "source": [],
      "id": "5e02fb13e986f4bc"
    },
    {
      "metadata": {
        "ExecuteTime": {
          "end_time": "2025-04-30T09:41:34.747275Z",
          "start_time": "2025-04-30T09:39:43.180106Z"
        },
        "colab": {
          "base_uri": "https://localhost:8080/"
        },
        "id": "9edc57113f58ee11",
        "outputId": "2d5d57ba-386a-4f2f-eb47-8d4148c850df"
      },
      "cell_type": "code",
      "source": [
        "import subprocess\n",
        "import sys\n",
        "import os\n",
        "import pandas as pd\n",
        "\n",
        "# Set environment variables for Kaggle API\n",
        "os.environ['KAGGLE_USERNAME'] = \"ilchurch\"\n",
        "os.environ['KAGGLE_KEY'] = \"5449548f4b6c8556c8f48f4a31b4ea6e\"\n",
        "\n",
        "# Ensure kaggle is installed\n",
        "try:\n",
        "    import kaggle\n",
        "except ImportError:\n",
        "    subprocess.check_call([sys.executable, \"-m\", \"pip\", \"install\", \"kaggle\"])\n",
        "    import kaggle\n",
        "\n",
        "# Import and authenticate using KaggleApi\n",
        "from kaggle.api.kaggle_api_extended import KaggleApi\n",
        "api = KaggleApi()\n",
        "api.authenticate()\n",
        "\n",
        "# Download and unzip the dataset\n",
        "api.dataset_download_files('mohamedbakhet/amazon-books-reviews', path='data', unzip=True)"
      ],
      "id": "9edc57113f58ee11",
      "outputs": [
        {
          "metadata": {
            "tags": null
          },
          "name": "stdout",
          "output_type": "stream",
          "text": [
            "Dataset URL: https://www.kaggle.com/datasets/mohamedbakhet/amazon-books-reviews\n"
          ]
        }
      ],
      "execution_count": 24
    },
    {
      "metadata": {
        "ExecuteTime": {
          "end_time": "2025-04-30T09:41:34.750742Z",
          "start_time": "2025-04-30T09:41:34.747275Z"
        },
        "id": "aca7278898d62aff"
      },
      "cell_type": "code",
      "source": [
        "# amazon_books_data\n",
        "# The dataset contains the following files:\n",
        "# - books_data.csv:\n",
        "# - Books_rating.csv:"
      ],
      "id": "aca7278898d62aff",
      "outputs": [],
      "execution_count": 25
    },
    {
      "metadata": {
        "ExecuteTime": {
          "end_time": "2025-04-30T09:41:38.758115Z",
          "start_time": "2025-04-30T09:41:34.752740Z"
        },
        "id": "faa012f3baac4263"
      },
      "cell_type": "code",
      "source": [
        "# Load the dataset with spark\n",
        "from pyspark.sql import SparkSession\n",
        "spark = SparkSession.builder \\\n",
        "    .appName(\"JaccardSimilarity\") \\\n",
        "    .master(\"local[*]\") \\\n",
        "    .getOrCreate()\n",
        "books_rating = spark.read.csv(\"data/Books_rating.csv\", header=True, inferSchema=True)"
      ],
      "id": "faa012f3baac4263",
      "outputs": [],
      "execution_count": 26
    },
    {
      "metadata": {
        "ExecuteTime": {
          "end_time": "2025-04-30T09:41:38.822084Z",
          "start_time": "2025-04-30T09:41:38.759115Z"
        },
        "colab": {
          "base_uri": "https://localhost:8080/"
        },
        "id": "6f55fd13c5c4a70c",
        "outputId": "c673e869-e7ea-4604-ab45-e3c82224a9d9"
      },
      "cell_type": "code",
      "source": [
        "# Display the first few rows of the books_rating dataset\n",
        "books_rating.show(5)"
      ],
      "id": "6f55fd13c5c4a70c",
      "outputs": [
        {
          "output_type": "stream",
          "name": "stdout",
          "text": [
            "+----------+--------------------+-----+--------------+--------------------+------------------+------------+-----------+--------------------+--------------------+\n",
            "|        Id|               Title|Price|       User_id|         profileName|review/helpfulness|review/score|review/time|      review/summary|         review/text|\n",
            "+----------+--------------------+-----+--------------+--------------------+------------------+------------+-----------+--------------------+--------------------+\n",
            "|1882931173|Its Only Art If I...| NULL| AVCGYZL8FQQTD|\"Jim of Oz \"\"jim-...|               7/7|         4.0|  940636800|Nice collection o...|This is only for ...|\n",
            "|0826414346|Dr. Seuss: Americ...| NULL|A30TK6U7DNS82R|       Kevin Killian|             10/10|         5.0| 1095724800|   Really Enjoyed It|I don't care much...|\n",
            "|0826414346|Dr. Seuss: Americ...| NULL|A3UH4UZ4RSVO82|        John Granger|             10/11|         5.0| 1078790400|Essential for eve...|\"If people become...|\n",
            "|0826414346|Dr. Seuss: Americ...| NULL|A2MVUWT453QH61|\"Roy E. Perry \"\"a...|               7/7|         4.0| 1090713600|Phlip Nel gives s...|Theodore Seuss Ge...|\n",
            "|0826414346|Dr. Seuss: Americ...| NULL|A22X4XUPKF66MR|\"D. H. Richards \"...|               3/3|         4.0| 1107993600|Good academic ove...|\"Philip Nel - Dr....|\n",
            "+----------+--------------------+-----+--------------+--------------------+------------------+------------+-----------+--------------------+--------------------+\n",
            "only showing top 5 rows\n",
            "\n"
          ]
        }
      ],
      "execution_count": 27
    },
    {
      "metadata": {
        "id": "32f883874724060"
      },
      "cell_type": "markdown",
      "source": [
        "# Create a subsample of the dataset for performance reasons\n",
        "I will use a sample of the dataset as a test case. My local and Google Collab computers are not powerful enough to handle the full dataset. I will use *sample* as a parameter can it can be changed to the desired sample size."
      ],
      "id": "32f883874724060"
    },
    {
      "metadata": {
        "ExecuteTime": {
          "end_time": "2025-04-30T09:41:38.826928Z",
          "start_time": "2025-04-30T09:41:38.823086Z"
        },
        "id": "53024733b148bdb4"
      },
      "cell_type": "code",
      "source": [
        "sample = 0.01 # 1% of the dataset"
      ],
      "id": "53024733b148bdb4",
      "outputs": [],
      "execution_count": 28
    },
    {
      "metadata": {
        "ExecuteTime": {
          "end_time": "2025-04-30T09:41:40.277509Z",
          "start_time": "2025-04-30T09:41:38.827928Z"
        },
        "colab": {
          "base_uri": "https://localhost:8080/"
        },
        "id": "c1caef794a13d7d1",
        "outputId": "8bb6584b-78a9-4ea2-dd49-d2b42e927ac8"
      },
      "cell_type": "code",
      "source": [
        "books_rating_sample = books_rating.sample(fraction=sample, seed=42)\n",
        "books_rating_sample.show(5)\n",
        "books_rating_sample.count()"
      ],
      "id": "c1caef794a13d7d1",
      "outputs": [
        {
          "output_type": "stream",
          "name": "stdout",
          "text": [
            "+----------+--------------------+-----+--------------+--------------------+------------------+------------+-----------+--------------------+--------------------+\n",
            "|        Id|               Title|Price|       User_id|         profileName|review/helpfulness|review/score|review/time|      review/summary|         review/text|\n",
            "+----------+--------------------+-----+--------------+--------------------+------------------+------------+-----------+--------------------+--------------------+\n",
            "|0312322291|King James: Belie...| NULL|          NULL|                NULL|               2/2|         5.0| 1118188800|Yo Homie this is ...|\"LeBron James is ...|\n",
            "|B0006D6DRK|Open marriage;: A...| NULL|A3KBF2S2MGN48O|\"T. Thompson \"\"&#...|               2/2|         4.0| 1188604800|A Must Read for a...|This book is a cl...|\n",
            "|0671551345|Night World: Daug...| NULL|          NULL|                NULL|               0/0|         5.0|  889920000|The most charming...|The plot and char...|\n",
            "|B0008852GG|The soul of man u...| NULL| AMVC9WTXYKNJ1|\"J. Edgar Mihelic...|               1/3|         4.0| 1294099200|An interesting li...|Although the titl...|\n",
            "|0836204271|Close to Home Rev...| NULL|A3QXDJQIHNGKMH|  rudorfer@erols.com|               2/4|         5.0|  881971200|HeeeHHHAAAAAAAHHH...|This book is the ...|\n",
            "+----------+--------------------+-----+--------------+--------------------+------------------+------------+-----------+--------------------+--------------------+\n",
            "only showing top 5 rows\n",
            "\n"
          ]
        },
        {
          "output_type": "execute_result",
          "data": {
            "text/plain": [
              "30332"
            ]
          },
          "metadata": {},
          "execution_count": 29
        }
      ],
      "execution_count": 29
    },
    {
      "metadata": {
        "id": "dcb6e82c7d972535"
      },
      "cell_type": "markdown",
      "source": [
        "# Checking for null values in the 'review/text' column\n",
        "Since we are using text data, we need to check for null values in the 'review/text' column in order to take a decision on how to handle them."
      ],
      "id": "dcb6e82c7d972535"
    },
    {
      "metadata": {
        "ExecuteTime": {
          "end_time": "2025-04-30T09:41:46.642695Z",
          "start_time": "2025-04-30T09:41:40.278510Z"
        },
        "colab": {
          "base_uri": "https://localhost:8080/"
        },
        "id": "dcf56755a2c3a6d5",
        "outputId": "b08676b9-fbf9-4f48-aeb9-4e70a80321a1"
      },
      "cell_type": "code",
      "source": [
        "# Check for null values in the 'review/text' column\n",
        "null_rows_df = books_rating.filter(\n",
        "    books_rating['review/text'].isNull() | (books_rating['review/text'].rlike('^\\\\s*$'))\n",
        ")\n",
        "\n",
        "null_rows_df.show(30)"
      ],
      "id": "dcf56755a2c3a6d5",
      "outputs": [
        {
          "output_type": "stream",
          "name": "stdout",
          "text": [
            "+----------+--------------------+--------------------+--------------------+--------------------+--------------------+--------------------+--------------------+--------------------+-----------+\n",
            "|        Id|               Title|               Price|             User_id|         profileName|  review/helpfulness|        review/score|         review/time|      review/summary|review/text|\n",
            "+----------+--------------------+--------------------+--------------------+--------------------+--------------------+--------------------+--------------------+--------------------+-----------+\n",
            "|B00085T7O2|\"\"\"Catch 'em aliv...|\",,ASEH0CVYVGZCZ,...|                 0/1|                 5.0|          1341705600|Fascinating life ...|There are many id...|                NULL|       NULL|\n",
            "|B00085T7O2|\"\"\"Catch 'em aliv...|\",,A91QQ7IYBAK2Q,...| terrible forward...|I found the book ...|                NULL|                NULL|                NULL|                NULL|       NULL|\n",
            "|B0007DMFZS|\"\"\"Beloved friend...|\",,AH9F75LQIKEZH,...|                 0/0|                 5.0|          1268611200|Invaluable path t...|\"There is so much...| An American Busi...|       NULL|\n",
            "|B00085P4PI|\"The child Manuel...|\",,A3HN2H8SWQ9V0Z...|                 1/1|                 5.0|          1106438400|Amazing and touching|This book was sim...|                NULL|       NULL|\n",
            "|B0007EFQHG|\"The Nazi \"\"88\"\" ...|\",,,,1/1,5.0,1127...| easy to read and...| Happy P. Abbott....| of any age will ...|                NULL|                NULL|                NULL|       NULL|\n",
            "|B0007EFQHG|\"The Nazi \"\"88\"\" ...|\",,A24FY5HONGOBA5...|\"\" it fortified m...|                NULL|                NULL|                NULL|                NULL|                NULL|       NULL|\n",
            "|B0008CK87U|\"\"\"Gentlemen pref...|\",,,,3/3,5.0,9070...| a directness tha...|       not a cartoon| and therefore ev...|                NULL|                NULL|                NULL|       NULL|\n",
            "|B000GQK706|The Lord of the R...|                NULL|                NULL|                NULL|                 0/1|                 5.0|           938563200|have only one wor...|       NULL|\n",
            "|B00085MA6E|\"Sins of New York...|\",,AT3NJHZMT67KH,...|   Mediocre Stories\"|I must say that I...|                NULL|                NULL|                NULL|                NULL|       NULL|\n",
            "|096719587X|\"Anabolic Outlaw ...|         pot smoking|    cocaine snorting|        pill popping|       acid dropping|    whiskey drinking| steroid shooting...|                4.95|       NULL|\n",
            "|B0006AIAX8|\"\"\"Shakespeare\"\" ...| the seventeenth ...|\",,A1IZWTVAQVJIFE...| with surprising ...|Looney's double-o...|                NULL|                NULL|                NULL|       NULL|\n",
            "|B0006AIAX8|\"\"\"Shakespeare\"\" ...| the seventeenth ...|\",,A2SBK4UJEMLDPW...| the main thrust ...| the assertion th...| this will change...| now make sense i...|                NULL|       NULL|\n",
            "|B0006AIAX8|\"\"\"Shakespeare\"\" ...| the seventeenth ...|,,A3Q5N4H6DYX2KP,...|                NULL|                NULL|                NULL|                NULL|                NULL|       NULL|\n",
            "|B000I1VJLA|The Lord of the R...|                NULL|                NULL|                NULL|                 0/1|                 5.0|           938563200|have only one wor...|       NULL|\n",
            "|1594860882|Scrawny to Brawny...|               13.18|      A2PZ208GDOIWZM|\"sloth \"\"\\|/ 3Toe...| and are quoted o...| the best site ou...|                NULL|                NULL|       NULL|\n",
            "|B000J1OR0Y|The Lord of the R...|                NULL|                NULL|                NULL|                 0/1|                 5.0|           938563200|have only one wor...|       NULL|\n",
            "|0446692743|How to Master the...|                8.59|      A12NUAMKX8SMZ6|C. Heng \"\"\\Chrish...|                NULL|                NULL|                NULL|                NULL|       NULL|\n",
            "|B000PIIMPW|The Lord of the R...|                NULL|                NULL|                NULL|                 0/1|                 5.0|           938563200|have only one wor...|       NULL|\n",
            "|B00085H0VE|\"\"\"Charge that to...|\"\" and other Gosp...|\",,A2AKETSGUW9KYI...|                 1/1|                 5.0|          1211760000|One of the best p...|This little book ...|       NULL|\n",
            "|B00085H0VE|\"\"\"Charge that to...|\"\" and other Gosp...|\",,A2AKETSGUW9KYI...|                 0/0|                 5.0|          1211760000|One of the best p...|This little book ...|       NULL|\n",
            "|B00085H0VE|\"\"\"Charge that to...|\"\" and other Gosp...|\",,A2AKETSGUW9KYI...|                 0/0|                 5.0|          1208995200|One of the best p...|This little book ...|       NULL|\n",
            "|1562802372|           The Drive|                NULL|      A32VJTCIVOG88D|                Fire|                 1/1|                 5.0|          1136678400|Beautiful and Hon...|       NULL|\n",
            "|B000BI4160|The Lord of the R...|                NULL|                NULL|                NULL|                 0/1|                 5.0|           938563200|have only one wor...|       NULL|\n",
            "|B0007FR8J4|Naive set theory ...|                NULL|      A24NMPDDZ11DK0|\"Menaka L. Bandar...| and this is the ...| this is a paradi...|                NULL|                NULL|       NULL|\n",
            "|B0006AL7F6|\"\"\"Bring me his e...|\",,A3UUH8T7XRWTRZ...|              though| with the first 7...|                NULL|                NULL|                NULL|                NULL|       NULL|\n",
            "|B00085KLN8|\"\"\"Over there\"\" w...|\",,A2LZ4IWESHKL5B...| so my recollecti...| which as a perso...| if you can get p...| this is a book y...| and also his pri...|                NULL|       NULL|\n",
            "|B00085KLN8|\"\"\"Over there\"\" w...|,,AV7I3OLNWCI1B,R...|                NULL|                NULL|                NULL|                NULL|                NULL|                NULL|       NULL|\n",
            "|B000MWH3JW|      Shadowy Horses|                NULL|      A39GJPQ7YI3I02|S. Dean \"\"\\\"\"0/1,...|                NULL|                NULL|                NULL|                NULL|       NULL|\n",
            "|0739311956|The Wisdom of Cro...|                NULL|      A3CZ6BI5Q59I6B|\"D. Hankins \"\"\\\"\"...| followed by a lo...| I seriously coul...|                NULL|                NULL|       NULL|\n",
            "|0739311964|The Wisdom of Cro...|                NULL|      A3CZ6BI5Q59I6B|\"D. Hankins \"\"\\\"\"...| followed by a lo...| I seriously coul...|                NULL|                NULL|       NULL|\n",
            "+----------+--------------------+--------------------+--------------------+--------------------+--------------------+--------------------+--------------------+--------------------+-----------+\n",
            "only showing top 30 rows\n",
            "\n"
          ]
        }
      ],
      "execution_count": 30
    },
    {
      "metadata": {
        "id": "13b84fb5ae57aa62"
      },
      "cell_type": "markdown",
      "source": [
        "Since the 'review/text' null values are more or less duplicates.\n",
        "\n",
        "They share the same columns, besides the identifiers and the Title. Although the Title is not the same, with a qualitative check we can see they are about the same book."
      ],
      "id": "13b84fb5ae57aa62"
    },
    {
      "metadata": {
        "ExecuteTime": {
          "end_time": "2025-04-30T09:41:48.039310Z",
          "start_time": "2025-04-30T09:41:46.643694Z"
        },
        "colab": {
          "base_uri": "https://localhost:8080/"
        },
        "id": "5885180066a66507",
        "outputId": "75f93963-5cda-4edc-85cc-661dbc24bf51"
      },
      "cell_type": "code",
      "source": [
        "from pyspark.sql.functions import col\n",
        "filtered_df = books_rating.filter(\n",
        "    col(\"Title\").contains(\"Lord of the Rings\")\n",
        ").select(\"Title\", \"review/text\").limit(100)\n",
        "\n",
        "# Show the result\n",
        "filtered_df.show(10, truncate=False)"
      ],
      "id": "5885180066a66507",
      "outputs": [
        {
          "output_type": "stream",
          "name": "stdout",
          "text": [
            "+---------------------------------------------------------------------------------------------+-------------------------------------------------------------------------------------------------------------------------------------------------------------------------------------------------------------------------------------------------------------------------------------------------------------------------------------------------------------------------------------------------------------------------------------------------------------------------------------------------------------------------------------------------------------------------------------------------------------------------------------------------------------------------------------------------------------------------------------------------------------------------------------------------------------------------------------------------------------------------------------------------------------------------------------------------------------------------------------------------------------------------------------------------------------------------------------------------------------------------------------------------------------------------------------------------------------------------------------------------------------------------------------------------------------------------------------------------------------------------------------------------------------------------------------------------------------------------------------------------------------------------------------------------------------------------------------------------------------------------------------------------------------------------------------------------------------------------------------------------------------------------------------------------------------------------------------------------------------------------------------------------------------------------------------------------------------------------------------------------------------------------------------------------------------------------------------------------------------------------------------------------------------------------------------------------------------------------------------------------------------------------------------------------------------------------------------------------------------------------------------------------------------------------------------------------------------------------------------------------------------------------------------------------------------------------------------------------------------------------------------------------------------------------------------------------------------------------------------------------------------------------------------------------------------------------------------------------------------------------------------------------------------------------------------------------------------------------------------------------------------------------------------------------------------------------------------------------------------------------------------------------------------------------------------------------------------------------------------------------------------------------------------------------------------------------------------------------------------------------------------------------------------------------------------------------------------------------------------------------------------------------------------------------------------------------------------------------------------------------------------------------------------------------------------------------------------------------------------------------------------------------------------------------------------------------------------------------------------------------------------------------------------------------------------------------------------------------------------------------------------------------------------------------------------------------------------------------------------------------------------------------------------------------------------------------------------------------------------------------------------------------------------------------------------------------------------------------------------------------------------------------------------------------------------------------------------+\n",
            "|Title                                                                                        |review/text                                                                                                                                                                                                                                                                                                                                                                                                                                                                                                                                                                                                                                                                                                                                                                                                                                                                                                                                                                                                                                                                                                                                                                                                                                                                                                                                                                                                                                                                                                                                                                                                                                                                                                                                                                                                                                                                                                                                                                                                                                                                                                                                                                                                                                                                                                                                                                                                                                                                                                                                                                                                                                                                                                                                                                                                                                                                                                                                                                                                                                                                                                                                                                                                                                                                                                                                                                                                                                                                                                                                                                                                                                                                                                                                                                                                                                                                                                                                                                                                                                                                                                                                                                                                                                                                                                                                                                                                                                                  |\n",
            "+---------------------------------------------------------------------------------------------+-------------------------------------------------------------------------------------------------------------------------------------------------------------------------------------------------------------------------------------------------------------------------------------------------------------------------------------------------------------------------------------------------------------------------------------------------------------------------------------------------------------------------------------------------------------------------------------------------------------------------------------------------------------------------------------------------------------------------------------------------------------------------------------------------------------------------------------------------------------------------------------------------------------------------------------------------------------------------------------------------------------------------------------------------------------------------------------------------------------------------------------------------------------------------------------------------------------------------------------------------------------------------------------------------------------------------------------------------------------------------------------------------------------------------------------------------------------------------------------------------------------------------------------------------------------------------------------------------------------------------------------------------------------------------------------------------------------------------------------------------------------------------------------------------------------------------------------------------------------------------------------------------------------------------------------------------------------------------------------------------------------------------------------------------------------------------------------------------------------------------------------------------------------------------------------------------------------------------------------------------------------------------------------------------------------------------------------------------------------------------------------------------------------------------------------------------------------------------------------------------------------------------------------------------------------------------------------------------------------------------------------------------------------------------------------------------------------------------------------------------------------------------------------------------------------------------------------------------------------------------------------------------------------------------------------------------------------------------------------------------------------------------------------------------------------------------------------------------------------------------------------------------------------------------------------------------------------------------------------------------------------------------------------------------------------------------------------------------------------------------------------------------------------------------------------------------------------------------------------------------------------------------------------------------------------------------------------------------------------------------------------------------------------------------------------------------------------------------------------------------------------------------------------------------------------------------------------------------------------------------------------------------------------------------------------------------------------------------------------------------------------------------------------------------------------------------------------------------------------------------------------------------------------------------------------------------------------------------------------------------------------------------------------------------------------------------------------------------------------------------------------------------------------------------------------------------------------+\n",
            "|Myth & Middle-Earth: Exploring the Medieval Legends Behind J.R.R. Tolkien's Lord of the Rings|&quot;As a long-term fan of JRR Tolkien and all things Middle-earth, I was very happy to pick up this concise and readable book tracing the main mythic sources that inspired Tolkien. Most books focus on the Norse and Germanic myths to the exclusion of all else, and while Dr. Jones covers these areas, she also goes well beyond to look at the Celtic myths of Ireland and Wales to complete the picture. Put this on your holiday shopping list if you're a fan of The Lord of the Rings!&quot;                                                                                                                                                                                                                                                                                                                                                                                                                                                                                                                                                                                                                                                                                                                                                                                                                                                                                                                                                                                                                                                                                                                                                                                                                                                                                                                                                                                                                                                                                                                                                                                                                                                                                                                                                                                                                                                                                                                                                                                                                                                                                                                                                                                                                                                                                                                                                                                                                                                                                                                                                                                                                                                                                                                                                                                                                                                                                                                                                                                                                                                                                                                                                                                                                                                                                                                                                                                                                                                                                                                                                                                                                                                                                                                                                                                                                                                                                                                                                     |\n",
            "|Myth & Middle-Earth: Exploring the Medieval Legends Behind J.R.R. Tolkien's Lord of the Rings|I just finished reading this wonderful book about the Northern European myths that Tolkien borrowed and reshaped to make the lands, people, and languages of Middle-earth come alive. For the price and content, this is a great value. I highly recommend it to anyone interested in Tolkien's fiction!&quot;                                                                                                                                                                                                                                                                                                                                                                                                                                                                                                                                                                                                                                                                                                                                                                                                                                                                                                                                                                                                                                                                                                                                                                                                                                                                                                                                                                                                                                                                                                                                                                                                                                                                                                                                                                                                                                                                                                                                                                                                                                                                                                                                                                                                                                                                                                                                                                                                                                                                                                                                                                                                                                                                                                                                                                                                                                                                                                                                                                                                                                                                                                                                                                                                                                                                                                                                                                                                                                                                                                                                                                                                                                                                                                                                                                                                                                                                                                                                                                                                                                                                                                                                               |\n",
            "|Myth & Middle-Earth: Exploring the Medieval Legends Behind J.R.R. Tolkien's Lord of the Rings|Juggles large numbers of mythic references with some skill but not full confidence or accuracy, and doesn't really have a lot of insight. The book is also burdened with a Hildebrandt cover. I recommend David Colbert's &quot;The Magical Worlds of The Lord of the Ring&quot; for juvenile readers, or Anne C. Petty's &quot;Tolkien in the Land of Heroes&quot; for adults.                                                                                                                                                                                                                                                                                                                                                                                                                                                                                                                                                                                                                                                                                                                                                                                                                                                                                                                                                                                                                                                                                                                                                                                                                                                                                                                                                                                                                                                                                                                                                                                                                                                                                                                                                                                                                                                                                                                                                                                                                                                                                                                                                                                                                                                                                                                                                                                                                                                                                                                                                                                                                                                                                                                                                                                                                                                                                                                                                                                                                                                                                                                                                                                                                                                                                                                                                                                                                                                                                                                                                                                                                                                                                                                                                                                                                                                                                                                                                                                                                                                                              |\n",
            "|The Lord of the Rings: A Dramatization (12 Audio Cassettes-Gift Boxed Edition)               |\"I enjoy these tapes and have in fact had them as long as I can remember (I'm 24). They're really well done, though I've never listened to any other audio production of a novel to know what to judge it against. Sometimes the tapes have unintentionally cheesy moments, but you laugh so hard it actually makes the tape more worth it.My favorite moment is in tape 1 of \"\"the Fellowship of the Ring\"\" where the once menacing Ring Wraith talks to Ham Gamgee about whether Frodo is \"\"here\"\". The whole conversations funny but the end where the Ring Wraith loses every hint of mysteriousness and darkness by very politely asking Ham \"\"Can you take a message?\"\" leaves me rolling every time.P.S.-To people only familiar with the films                                                                                                                                                                                                                                                                                                                                                                                                                                                                                                                                                                                                                                                                                                                                                                                                                                                                                                                                                                                                                                                                                                                                                                                                                                                                                                                                                                                                                                                                                                                                                                                                                                                                                                                                                                                                                                                                                                                                                                                                                                                                                                                                                                                                                                                                                                                                                                                                                                                                                                                                                                                                                                                                                                                                                                                                                                                                                                                                                                                                                                                                                                                                                                                                                                                                                                                                                                                                                                                                                                                                                                                                                                                                                                       |\n",
            "|The Lord of the Rings: A Dramatization (12 Audio Cassettes-Gift Boxed Edition)               |This drama comes on twelve audio tapes and lasts about twelve hours. It was produced by The Mind's Eye and comes in a nicely carved wooden box. The narration has been for the most part nicely performed. Many of the voices have American accents, which sound rather out of place in the British speech of the book. The acting has generally been well-done, but there are a good many corny portions. Some of the voices, such as Samwise Gamgee for example, sound cartoonish. Frodo sounds like an ordinary grown man who could live anywhere in the USA, but his faithful friend and servant Sam sounds like a cartoon figure who sucked a couple of helium balloons before acting. Merry and Pippin have been done well. They have British accents and cartoonish voices. Sauron sounds absolutely terrible. The actor sounds like he is talking while breathing in and trying to become a baritone, which he is obviously not. Treebeard and the Ents, although rather corny, do a great job. Tom Bombadill is, as is the case in the book, quite jolly and merry, but he puts on a VERY, VEEEEEEEERRY corny act. Goldberry can't sing. The Elves have human voices, although they all do a nice job. Galadriel has a soft voice, but she seems to be reading from a script rather than sounding natural. The hobbits have diverse voices. Hamfast Gamgee the Gaffer has a quaky, quavering voice. Some hobbits have voices like Bugs Bunny and his pals. Some have accented human voices. Saruman does NOT have the regal, low voice that he is supposed to have. Christopher Lee would have been a far better choice. However, there are many great actors. Aragorn, Gandalf, Th&eacute;oden, &Eacute;omir, Denethor, Bilbo, Gimli and Legolas all do a nice job. Gimli has a somewhat deep and gruff voice. Gollum or Sm&eacute;agol is something altogether different. The actor who plays him does a nice job, but his voice sounds just a tad too human. He sometimes outdoes his own voice ability through having to scream, hiss and weep so much. The music is Classical in nature. The main problem lies in the fact that there was little music produced. It was cut and pasted all over the place. I guess there might be a half hour to an hour of music all told. Because of this there is very little theme development unlike in the BBC dramatization. This is rather disconcerting for those who like a good sound track with lots of strong thematic development and emphasis. Many of the sounds have been used over and over and over again. The same battle cries are heard at Helm's Deep, Rohan, and Minas Tirith. The same Orcs must have been at all the battles too because the same sounds of laughter and yelling are heard in most of the battle scenes. This also applies to natural sounds. The same sounds of birds are used in numerous places. I don't know if this is the case for all the tapes, but some of mine have little background noises and tone distortions that are not easily noticeable but that can get annoying, so that's something to beware of. Some of the names and places have been mispronounced. I understand that many of them are difficult to get out, but there is a specific way of saying them. The main problem with this set is that it has been over-abridged. The full-length unabridged reading of the LOTR, which I would also highly recommend, spans over forty cassettes, but this is only twelve. Tolkien wrote in extreme detail, all but describing every rock and tree and feature of the world he imagined. Only the most important details have been kept. Many scenes that are not critical but that sure do help have been deleted, which causes problems. Sometimes things happen that were deleted but later are referred to. For someone such as I who has read the trilogy many times over and knows exactly what's going on this is not a problem, but someone who knows little or nothing of the events chronicled in the books may have some difficulty in figuring out what's going on. Despite its drawbacks, it is a wonderful performance in a case that would look splendid on anyone's shelf. It is a bit pricy, but it is worth it. It has brought me lots of listening pleasure and helped me to get through many tough research papers. I would recommend it to those who don't mind a mixture of complete corniness and wonderful battle scenes.|\n",
            "|The Return of the King 2004 Calendar (The Lord of the Rings)                                 |Have the Rings for 16 month!!                                                                                                                                                                                                                                                                                                                                                                                                                                                                                                                                                                                                                                                                                                                                                                                                                                                                                                                                                                                                                                                                                                                                                                                                                                                                                                                                                                                                                                                                                                                                                                                                                                                                                                                                                                                                                                                                                                                                                                                                                                                                                                                                                                                                                                                                                                                                                                                                                                                                                                                                                                                                                                                                                                                                                                                                                                                                                                                                                                                                                                                                                                                                                                                                                                                                                                                                                                                                                                                                                                                                                                                                                                                                                                                                                                                                                                                                                                                                                                                                                                                                                                                                                                                                                                                                                                                                                                                                                                |\n",
            "|The Return of the King 2004 Calendar (The Lord of the Rings)                                 |I highly recommend this book to anyone who has read the first two but if you have not you need to because it is one of the most well written seires i have ever read. The book starts off with frodo inside of the black gate finally but you wont get much more out of me your going to have to read it yourself. It may start slow in the first two or three chapters but after that you will not be able to put it down. So get out there and read this book.                                                                                                                                                                                                                                                                                                                                                                                                                                                                                                                                                                                                                                                                                                                                                                                                                                                                                                                                                                                                                                                                                                                                                                                                                                                                                                                                                                                                                                                                                                                                                                                                                                                                                                                                                                                                                                                                                                                                                                                                                                                                                                                                                                                                                                                                                                                                                                                                                                                                                                                                                                                                                                                                                                                                                                                                                                                                                                                                                                                                                                                                                                                                                                                                                                                                                                                                                                                                                                                                                                                                                                                                                                                                                                                                                                                                                                                                                                                                                                                             |\n",
            "|Gollum: How We Made Movie Magic (The Lord of the Rings)                                      |\"Andy Serkis is the outstanding actor who is barely seen in his most beloved role: Gollum, the tormented Ring junkie. In \"\"Gollum: A Behind the Scenes Guide                                                                                                                                                                                                                                                                                                                                                                                                                                                                                                                                                                                                                                                                                                                                                                                                                                                                                                                                                                                                                                                                                                                                                                                                                                                                                                                                                                                                                                                                                                                                                                                                                                                                                                                                                                                                                                                                                                                                                                                                                                                                                                                                                                                                                                                                                                                                                                                                                                                                                                                                                                                                                                                                                                                                                                                                                                                                                                                                                                                                                                                                                                                                                                                                                                                                                                                                                                                                                                                                                                                                                                                                                                                                                                                                                                                                                                                                                                                                                                                                                                                                                                                                                                                                                                                                                                 |\n",
            "|Gollum: How We Made Movie Magic (The Lord of the Rings)                                      |I guess I'm a bit of a geek and I just love the character of Gollum in The lord of the Rings movies and in The Hobbit. At the same time I think Andy Serkis is a brilliant actor, with a bit of nice humor - so this book is just a great way to get a behind-the-scenes look of how this character was made. Normally I don't like to read books, but this is brilliant, informative and funny.Would recommend it to any LOTR & Hobbit fans who are interested in knowing a bit more about how it was made.                                                                                                                                                                                                                                                                                                                                                                                                                                                                                                                                                                                                                                                                                                                                                                                                                                                                                                                                                                                                                                                                                                                                                                                                                                                                                                                                                                                                                                                                                                                                                                                                                                                                                                                                                                                                                                                                                                                                                                                                                                                                                                                                                                                                                                                                                                                                                                                                                                                                                                                                                                                                                                                                                                                                                                                                                                                                                                                                                                                                                                                                                                                                                                                                                                                                                                                                                                                                                                                                                                                                                                                                                                                                                                                                                                                                                                                                                                                                                 |\n",
            "|The Lord of the Rings: A Reader's Companion                                                  |I've never attempted something like this,however, I was so impressed with this book I decided to give it a try.While it would have been great to have an annotated version that included the entire novel,I must say it is very easy to find your place within this book. Weather you are going from the novel to the compainon or visa versa. I am speaking from the point of view of someone very familiar with LOTR having read it numerous times over the last 30 years.And somewhat familiar with Silmarillion.I assume someone seeking this sort of information and\\or back story would have at least a minamal knowledge of the novel. Evan assuming no knowledge I believe you would quickly find your way around.I found the information to be accurate,as far as my knowledge could be trusted to check such things.One thing I've truely enjoyed is just reading random passages. I find myself reading page after page in this manner. I was just begining Unfinished Tales when I found this book and am anxious to begin reading LOTR again and make use of Reader's Companion.I would also add that the book itself is very nice. It is well made.The pages are made of nice paper with a great feel.Overall I am quite pleased and can find nothing negative to say. Again this is my first review and I hope someone finds it as useful as some of the reviews I have found helpful in the past.                                                                                                                                                                                                                                                                                                                                                                                                                                                                                                                                                                                                                                                                                                                                                                                                                                                                                                                                                                                                                                                                                                                                                                                                                                                                                                                                                                                                                                                                                                                                                                                                                                                                                                                                                                                                                                                                                                                                                                                                                                                                                                                                                                                                                                                                                                                                                                                                                                                                                                                                                                                                                                                                                                                                                                                                                                                                                                                                                                                                                                            |\n",
            "+---------------------------------------------------------------------------------------------+-------------------------------------------------------------------------------------------------------------------------------------------------------------------------------------------------------------------------------------------------------------------------------------------------------------------------------------------------------------------------------------------------------------------------------------------------------------------------------------------------------------------------------------------------------------------------------------------------------------------------------------------------------------------------------------------------------------------------------------------------------------------------------------------------------------------------------------------------------------------------------------------------------------------------------------------------------------------------------------------------------------------------------------------------------------------------------------------------------------------------------------------------------------------------------------------------------------------------------------------------------------------------------------------------------------------------------------------------------------------------------------------------------------------------------------------------------------------------------------------------------------------------------------------------------------------------------------------------------------------------------------------------------------------------------------------------------------------------------------------------------------------------------------------------------------------------------------------------------------------------------------------------------------------------------------------------------------------------------------------------------------------------------------------------------------------------------------------------------------------------------------------------------------------------------------------------------------------------------------------------------------------------------------------------------------------------------------------------------------------------------------------------------------------------------------------------------------------------------------------------------------------------------------------------------------------------------------------------------------------------------------------------------------------------------------------------------------------------------------------------------------------------------------------------------------------------------------------------------------------------------------------------------------------------------------------------------------------------------------------------------------------------------------------------------------------------------------------------------------------------------------------------------------------------------------------------------------------------------------------------------------------------------------------------------------------------------------------------------------------------------------------------------------------------------------------------------------------------------------------------------------------------------------------------------------------------------------------------------------------------------------------------------------------------------------------------------------------------------------------------------------------------------------------------------------------------------------------------------------------------------------------------------------------------------------------------------------------------------------------------------------------------------------------------------------------------------------------------------------------------------------------------------------------------------------------------------------------------------------------------------------------------------------------------------------------------------------------------------------------------------------------------------------------------------------------------------------+\n",
            "only showing top 10 rows\n",
            "\n"
          ]
        }
      ],
      "execution_count": 41
    },
    {
      "metadata": {
        "id": "6dcd6513675d7e10"
      },
      "cell_type": "markdown",
      "source": [
        "There are many others Lord of The Rings reviews. I think we can't discard the NA values and it's better to keep them. We can use also the Title as similarity check."
      ],
      "id": "6dcd6513675d7e10"
    },
    {
      "metadata": {
        "id": "a2cdb61db5f854cf"
      },
      "cell_type": "markdown",
      "source": [],
      "id": "a2cdb61db5f854cf"
    },
    {
      "metadata": {
        "ExecuteTime": {
          "end_time": "2025-04-30T09:41:53.848452Z",
          "start_time": "2025-04-30T09:41:48.041308Z"
        },
        "id": "45b44dde088bb228",
        "colab": {
          "base_uri": "https://localhost:8080/"
        },
        "outputId": "b228fe7e-c296-4170-80ac-249c9b42be06"
      },
      "cell_type": "code",
      "source": [
        "# Check for null values in the 'review/text' column\n",
        "null_rows_df_sample = books_rating_sample.filter(\n",
        "    books_rating_sample['review/text'].isNull() | (books_rating_sample['review/text'].rlike('^\\\\s*$'))\n",
        ")\n",
        "\n",
        "null_rows_df_sample.show(30)"
      ],
      "id": "45b44dde088bb228",
      "outputs": [
        {
          "output_type": "stream",
          "name": "stdout",
          "text": [
            "+----------+--------------------+-----+-------+-----------+------------------+------------+-----------+--------------------+-----------+\n",
            "|        Id|               Title|Price|User_id|profileName|review/helpfulness|review/score|review/time|      review/summary|review/text|\n",
            "+----------+--------------------+-----+-------+-----------+------------------+------------+-----------+--------------------+-----------+\n",
            "|B000I1VJLA|The Lord of the R...| NULL|   NULL|       NULL|               0/1|         5.0|  938563200|have only one wor...|       NULL|\n",
            "+----------+--------------------+-----+-------+-----------+------------------+------------+-----------+--------------------+-----------+\n",
            "\n"
          ]
        }
      ],
      "execution_count": 32
    },
    {
      "metadata": {
        "id": "fbdccfaafc82187e"
      },
      "cell_type": "markdown",
      "source": [
        "The is a null value in the subsample"
      ],
      "id": "fbdccfaafc82187e"
    },
    {
      "metadata": {
        "id": "533cd4951d48f00d"
      },
      "cell_type": "markdown",
      "source": [
        "# Working with the subsample"
      ],
      "id": "533cd4951d48f00d"
    },
    {
      "metadata": {
        "id": "1072c0152b9ecab2"
      },
      "cell_type": "markdown",
      "source": [
        "## Jaccard Similarity Approach\n",
        "Since the dataset is too big, I will use a subsample of the dataset to test the Jaccard Similarity approach, for test purposes. I will then try top scale it to the full dataset.\n",
        "In addition, I will use the MapReduce approach to parallelize the computation of the Jaccard Similarity."
      ],
      "id": "1072c0152b9ecab2"
    },
    {
      "metadata": {
        "ExecuteTime": {
          "end_time": "2025-04-30T09:41:53.852316Z",
          "start_time": "2025-04-30T09:41:53.848452Z"
        },
        "id": "5885315f727b57eb"
      },
      "cell_type": "code",
      "source": [
        "from pyspark.ml.feature import RegexTokenizer, StopWordsRemover\n",
        "from pyspark.sql.functions import col, udf\n",
        "from pyspark.sql.types import ArrayType, StringType"
      ],
      "id": "5885315f727b57eb",
      "outputs": [],
      "execution_count": 33
    },
    {
      "metadata": {
        "ExecuteTime": {
          "end_time": "2025-04-30T09:41:53.866249Z",
          "start_time": "2025-04-30T09:41:53.853317Z"
        },
        "id": "c6be9ffd0f620cb9"
      },
      "cell_type": "code",
      "source": [
        "tokenizer = RegexTokenizer(inputCol=\"review/text\", outputCol=\"reviews/tokens\", pattern=\"\\\\W\") # \\\\W is a regex pattern that matches any non-word character"
      ],
      "id": "c6be9ffd0f620cb9",
      "outputs": [],
      "execution_count": 34
    },
    {
      "metadata": {
        "id": "d1275a324da74d22"
      },
      "cell_type": "markdown",
      "source": [
        "It tokenizes the text into words. I am trying this approach because I believe it will be faster then some neural network based approach, since this use sparks. It will have some limitations, since it does not take in account of compound words, but I think it will be good for the first approach."
      ],
      "id": "d1275a324da74d22"
    },
    {
      "metadata": {
        "ExecuteTime": {
          "end_time": "2025-04-30T09:41:53.908777Z",
          "start_time": "2025-04-30T09:41:53.867250Z"
        },
        "id": "1fca258eea1e93f1"
      },
      "cell_type": "code",
      "source": [
        "stopwords_remover = StopWordsRemover(inputCol=\"reviews/tokens\", outputCol=\"tokens/nostopwords\")"
      ],
      "id": "1fca258eea1e93f1",
      "outputs": [],
      "execution_count": 35
    },
    {
      "metadata": {
        "id": "87c07acc08025c2c"
      },
      "cell_type": "markdown",
      "source": [
        "StopWordsRemover() uses a predefined list of stop words in English. It removes common words that do not carry much meaning, such as \"the\", \"is\", \"in\", etc. This is important, since the Jaccard Similarity is based on the number of common words between two texts. If we don't remove the stop words, the Jaccard Similarity will be biased by the number of stop words in the texts, which are not relevant for the meaning of the texts."
      ],
      "id": "87c07acc08025c2c"
    },
    {
      "metadata": {
        "ExecuteTime": {
          "end_time": "2025-04-30T09:41:53.913095Z",
          "start_time": "2025-04-30T09:41:53.909778Z"
        },
        "id": "4707a6f993b28803"
      },
      "cell_type": "code",
      "source": [
        "def remove_numbers(tokens):\n",
        "    return [token for token in tokens if not token.isdigit()]"
      ],
      "id": "4707a6f993b28803",
      "outputs": [],
      "execution_count": 36
    },
    {
      "metadata": {
        "id": "593cab392a6b24df"
      },
      "cell_type": "markdown",
      "source": [
        "Numbers are often not relevant for the meaning of a review. In our dataset, the score is stored in a separated column, so we can remove the numbers from the text."
      ],
      "id": "593cab392a6b24df"
    },
    {
      "metadata": {
        "ExecuteTime": {
          "end_time": "2025-04-30T09:41:53.925749Z",
          "start_time": "2025-04-30T09:41:53.914095Z"
        },
        "id": "5a62598dcf6f25a2"
      },
      "cell_type": "code",
      "source": [
        "remove_numbers_udf = udf(remove_numbers, ArrayType(StringType())) # Specify the return type as ArrayType(StringType), meaning an array/list of strings"
      ],
      "id": "5a62598dcf6f25a2",
      "outputs": [],
      "execution_count": 37
    },
    {
      "metadata": {
        "id": "c55d3aa47c162dab"
      },
      "cell_type": "markdown",
      "source": [
        "Sparks does not work as a Python object, so we need UDF (user defined function) to use it in the pipeline."
      ],
      "id": "c55d3aa47c162dab"
    },
    {
      "metadata": {
        "ExecuteTime": {
          "end_time": "2025-04-30T09:47:49.585867Z",
          "start_time": "2025-04-30T09:47:49.515871Z"
        },
        "id": "ddaa3e8ad4c3282"
      },
      "cell_type": "code",
      "source": [
        "tokenized_books_rating_sample = tokenizer.transform(books_rating_sample) # Apply the tokenizer to the dataset\n",
        "tokenized_reviews_nostopwords_sample = stopwords_remover.transform(tokenized_books_rating_sample) # Remove the stop words from the tokenized dataset\n",
        "tokenized_rw_nsw_nn_sample = tokenized_reviews_nostopwords_sample.withColumn(\"tokens/nostopwords/nonumbers\", remove_numbers_udf(col(\"tokens/nostopwords\"))) # Remove the numbers from the dataset"
      ],
      "id": "ddaa3e8ad4c3282",
      "outputs": [],
      "execution_count": 38
    },
    {
      "metadata": {
        "ExecuteTime": {
          "end_time": "2025-04-30T10:07:54.020088Z",
          "start_time": "2025-04-30T10:07:52.892613Z"
        },
        "id": "337bce825f5607c6",
        "colab": {
          "base_uri": "https://localhost:8080/"
        },
        "outputId": "4baacbdb-803e-4e46-cbab-26d228101368"
      },
      "cell_type": "code",
      "source": [
        "\n",
        "tokenized_rw_nsw_nn_sample.show(10)"
      ],
      "id": "337bce825f5607c6",
      "outputs": [
        {
          "output_type": "stream",
          "name": "stdout",
          "text": [
            "+----------+--------------------+-----+--------------+--------------------+------------------+------------+-----------+--------------------+--------------------+--------------------+--------------------+----------------------------+\n",
            "|        Id|               Title|Price|       User_id|         profileName|review/helpfulness|review/score|review/time|      review/summary|         review/text|      reviews/tokens|  tokens/nostopwords|tokens/nostopwords/nonumbers|\n",
            "+----------+--------------------+-----+--------------+--------------------+------------------+------------+-----------+--------------------+--------------------+--------------------+--------------------+----------------------------+\n",
            "|0312322291|King James: Belie...| NULL|          NULL|                NULL|               2/2|         5.0| 1118188800|Yo Homie this is ...|\"LeBron James is ...|[lebron, james, i...|[lebron, james, b...|        [lebron, james, b...|\n",
            "|B0006D6DRK|Open marriage;: A...| NULL|A3KBF2S2MGN48O|\"T. Thompson \"\"&#...|               2/2|         4.0| 1188604800|A Must Read for a...|This book is a cl...|[this, book, is, ...|[book, classic, p...|        [book, classic, p...|\n",
            "|0671551345|Night World: Daug...| NULL|          NULL|                NULL|               0/0|         5.0|  889920000|The most charming...|The plot and char...|[the, plot, and, ...|[plot, characters...|        [plot, characters...|\n",
            "|B0008852GG|The soul of man u...| NULL| AMVC9WTXYKNJ1|\"J. Edgar Mihelic...|               1/3|         4.0| 1294099200|An interesting li...|Although the titl...|[although, the, t...|[although, title,...|        [although, title,...|\n",
            "|0836204271|Close to Home Rev...| NULL|A3QXDJQIHNGKMH|  rudorfer@erols.com|               2/4|         5.0|  881971200|HeeeHHHAAAAAAAHHH...|This book is the ...|[this, book, is, ...|[book, best, funn...|        [book, best, funn...|\n",
            "|0932813062|Lost Cities of Af...|11.66|A1LG9LE8NN47CZ|    Winston Whitaker|               6/7|         5.0|  953510400|There's no other ...|There is no other...|[there, is, no, o...|[book, africa, ar...|        [book, africa, ar...|\n",
            "|B0006AUI9W|Lincoln reconside...| NULL|A1E8EIKF5T05BO|             Panhard|               0/0|         5.0| 1356739200|Not your ordinary...|\"According to the...|[according, to, t...|[according, autho...|        [according, autho...|\n",
            "|B0007H4QBK|Economics in one ...| NULL|A1JA55BW3T7WZJ|        S. J Mahoney|               2/4|         4.0| 1293321600|Law of unintended...|Hazlitt is one of...|[hazlitt, is, one...|[hazlitt, one, pr...|        [hazlitt, one, pr...|\n",
            "|B0007H4QBK|Economics in one ...| NULL|A3W1J0KZJJPG5J|\"A. J. Morrison \"...|               0/0|         5.0| 1355184000|       nice resource|Teacher no longer...|[teacher, no, lon...|[teacher, longer,...|        [teacher, longer,...|\n",
            "|B0007H4QBK|Economics in one ...| NULL|A2PIHPON1FXK7M|   Michelle D. Lasch|               6/6|         5.0| 1317340800|If you want to un...|\"Economics in One...|[economics, in, o...|[economics, one, ...|        [economics, one, ...|\n",
            "+----------+--------------------+-----+--------------+--------------------+------------------+------------+-----------+--------------------+--------------------+--------------------+--------------------+----------------------------+\n",
            "only showing top 10 rows\n",
            "\n"
          ]
        }
      ],
      "execution_count": 39
    }
  ],
  "metadata": {
    "kernelspec": {
      "display_name": "Python 3.12 (myenv)",
      "language": "python",
      "name": "myenv"
    },
    "language_info": {
      "codemirror_mode": {
        "name": "ipython",
        "version": 2
      },
      "file_extension": ".py",
      "mimetype": "text/x-python",
      "name": "python",
      "nbconvert_exporter": "python",
      "pygments_lexer": "ipython2",
      "version": "2.7.6"
    },
    "colab": {
      "provenance": []
    }
=======
 "cells": [
  {
   "metadata": {},
   "cell_type": "markdown",
   "source": [
    "# Title\n",
    "\n",
    "Project website: https://docs.google.com/document/d/1GkK28wOyjTPZEZuOumKPU0z1NzVT_9sxETjPOcLPVYo/edit?tab=t.0#heading=h.qifoo7co6qtd\n",
    "\n",
    "Professor website: https://malchiodi.di.unimi.it/teaching/AMD-DSE/2024-25/en"
   ],
   "id": "8a77807f92f26ee"
  },
  {
   "metadata": {
    "jupyter": {
     "is_executing": true
    }
   },
   "cell_type": "code",
   "source": [
    "# Install required packages from the requirement.txt file if not already installed\n",
    "!pip install -r requirements.txt"
   ],
   "id": "4b98cbd80fe8cd48",
   "outputs": [],
   "execution_count": null
  },
  {
   "metadata": {},
   "cell_type": "markdown",
   "source": "",
   "id": "5e02fb13e986f4bc"
  },
  {
   "metadata": {
    "ExecuteTime": {
     "end_time": "2025-04-30T10:28:48.985201Z",
     "start_time": "2025-04-30T10:26:55.118772Z"
    }
   },
   "cell_type": "code",
   "source": [
    "import subprocess\n",
    "import sys\n",
    "import os\n",
    "import pandas as pd\n",
    "\n",
    "# Set environment variables for Kaggle API\n",
    "os.environ['KAGGLE_USERNAME'] = \"ilchurch\"\n",
    "os.environ['KAGGLE_KEY'] = \"5449548f4b6c8556c8f48f4a31b4ea6e\"\n",
    "\n",
    "# Ensure kaggle is installed\n",
    "try:\n",
    "    import kaggle\n",
    "except ImportError:\n",
    "    subprocess.check_call([sys.executable, \"-m\", \"pip\", \"install\", \"kaggle\"])\n",
    "    import kaggle\n",
    "\n",
    "# Import and authenticate using KaggleApi\n",
    "from kaggle.api.kaggle_api_extended import KaggleApi\n",
    "api = KaggleApi()\n",
    "api.authenticate()\n",
    "\n",
    "# Download and unzip the dataset\n",
    "api.dataset_download_files('mohamedbakhet/amazon-books-reviews', path='data', unzip=True)"
   ],
   "id": "9edc57113f58ee11",
   "outputs": [
    {
     "name": "stdout",
     "output_type": "stream",
     "text": [
      "Dataset URL: https://www.kaggle.com/datasets/mohamedbakhet/amazon-books-reviews\n"
     ]
    }
   ],
   "execution_count": 2
  },
  {
   "metadata": {
    "ExecuteTime": {
     "end_time": "2025-04-30T10:29:30.693401Z",
     "start_time": "2025-04-30T10:29:30.690282Z"
    }
   },
   "cell_type": "code",
   "source": [
    "# amazon_books_data\n",
    "# The dataset contains the following files:\n",
    "# - books_data.csv: \n",
    "# - Books_rating.csv:"
   ],
   "id": "aca7278898d62aff",
   "outputs": [],
   "execution_count": 7
  },
  {
   "metadata": {
    "ExecuteTime": {
     "end_time": "2025-04-30T10:29:32.154553Z",
     "start_time": "2025-04-30T10:29:32.110502Z"
    }
   },
   "cell_type": "code",
   "source": [
    "# Load the dataset with spark\n",
    "from pyspark.sql import SparkSession\n",
    "spark = SparkSession.builder \\\n",
    "    .appName(\"JaccardSimilarity\") \\\n",
    "    .master(\"local[*]\") \\\n",
    "    .getOrCreate()\n",
    "books_rating = spark.read.csv(\"data/Books_rating.csv\", header=True, inferSchema=True)"
   ],
   "id": "faa012f3baac4263",
   "outputs": [
    {
     "ename": "ModuleNotFoundError",
     "evalue": "No module named 'pyspark.conf'",
     "output_type": "error",
     "traceback": [
      "\u001B[1;31m---------------------------------------------------------------------------\u001B[0m",
      "\u001B[1;31mModuleNotFoundError\u001B[0m                       Traceback (most recent call last)",
      "Cell \u001B[1;32mIn[8], line 2\u001B[0m\n\u001B[0;32m      1\u001B[0m \u001B[38;5;66;03m# Load the dataset with spark\u001B[39;00m\n\u001B[1;32m----> 2\u001B[0m \u001B[38;5;28;01mfrom\u001B[39;00m \u001B[38;5;21;01mpyspark\u001B[39;00m\u001B[38;5;21;01m.\u001B[39;00m\u001B[38;5;21;01msql\u001B[39;00m \u001B[38;5;28;01mimport\u001B[39;00m SparkSession\n\u001B[0;32m      3\u001B[0m spark \u001B[38;5;241m=\u001B[39m SparkSession\u001B[38;5;241m.\u001B[39mbuilder \\\n\u001B[0;32m      4\u001B[0m     \u001B[38;5;241m.\u001B[39mappName(\u001B[38;5;124m\"\u001B[39m\u001B[38;5;124mJaccardSimilarity\u001B[39m\u001B[38;5;124m\"\u001B[39m) \\\n\u001B[0;32m      5\u001B[0m     \u001B[38;5;241m.\u001B[39mmaster(\u001B[38;5;124m\"\u001B[39m\u001B[38;5;124mlocal[*]\u001B[39m\u001B[38;5;124m\"\u001B[39m) \\\n\u001B[0;32m      6\u001B[0m     \u001B[38;5;241m.\u001B[39mgetOrCreate()\n\u001B[0;32m      7\u001B[0m books_rating \u001B[38;5;241m=\u001B[39m spark\u001B[38;5;241m.\u001B[39mread\u001B[38;5;241m.\u001B[39mcsv(\u001B[38;5;124m\"\u001B[39m\u001B[38;5;124mdata/Books_rating.csv\u001B[39m\u001B[38;5;124m\"\u001B[39m, header\u001B[38;5;241m=\u001B[39m\u001B[38;5;28;01mTrue\u001B[39;00m, inferSchema\u001B[38;5;241m=\u001B[39m\u001B[38;5;28;01mTrue\u001B[39;00m)\n",
      "File \u001B[1;32m~\\miniconda3\\Lib\\site-packages\\pyspark\\__init__.py:58\u001B[0m\n\u001B[0;32m     52\u001B[0m \u001B[38;5;28;01mfrom\u001B[39;00m \u001B[38;5;21;01mwarnings\u001B[39;00m \u001B[38;5;28;01mimport\u001B[39;00m filterwarnings\n\u001B[0;32m     54\u001B[0m filterwarnings(\n\u001B[0;32m     55\u001B[0m     \u001B[38;5;124m\"\u001B[39m\u001B[38;5;124mignore\u001B[39m\u001B[38;5;124m\"\u001B[39m, message\u001B[38;5;241m=\u001B[39m\u001B[38;5;124m\"\u001B[39m\u001B[38;5;124mdistutils Version classes are deprecated. Use packaging.version instead.\u001B[39m\u001B[38;5;124m\"\u001B[39m\n\u001B[0;32m     56\u001B[0m )\n\u001B[1;32m---> 58\u001B[0m \u001B[38;5;28;01mfrom\u001B[39;00m \u001B[38;5;21;01mpyspark\u001B[39;00m\u001B[38;5;21;01m.\u001B[39;00m\u001B[38;5;21;01mconf\u001B[39;00m \u001B[38;5;28;01mimport\u001B[39;00m SparkConf\n\u001B[0;32m     59\u001B[0m \u001B[38;5;28;01mfrom\u001B[39;00m \u001B[38;5;21;01mpyspark\u001B[39;00m\u001B[38;5;21;01m.\u001B[39;00m\u001B[38;5;21;01mrdd\u001B[39;00m \u001B[38;5;28;01mimport\u001B[39;00m RDD, RDDBarrier\n\u001B[0;32m     60\u001B[0m \u001B[38;5;28;01mfrom\u001B[39;00m \u001B[38;5;21;01mpyspark\u001B[39;00m\u001B[38;5;21;01m.\u001B[39;00m\u001B[38;5;21;01mfiles\u001B[39;00m \u001B[38;5;28;01mimport\u001B[39;00m SparkFiles\n",
      "\u001B[1;31mModuleNotFoundError\u001B[0m: No module named 'pyspark.conf'"
     ]
    }
   ],
   "execution_count": 8
  },
  {
   "metadata": {
    "ExecuteTime": {
     "end_time": "2025-04-30T10:28:53.993305Z",
     "start_time": "2025-04-30T10:28:53.993305Z"
    }
   },
   "cell_type": "code",
   "source": [
    "# Display the first few rows of the books_rating dataset\n",
    "books_rating.show(5)"
   ],
   "id": "6f55fd13c5c4a70c",
   "outputs": [],
   "execution_count": null
  },
  {
   "metadata": {},
   "cell_type": "markdown",
   "source": [
    "# Create a subsample of the dataset for performance reasons\n",
    "I will use a sample of the dataset as a test case. My local and Google Collab computers are not powerful enough to handle the full dataset. I will use *sample* as a parameter can it can be changed to the desired sample size."
   ],
   "id": "32f883874724060"
  },
  {
   "metadata": {},
   "cell_type": "code",
   "source": "sample = 0.01 # 1% of the dataset",
   "id": "53024733b148bdb4",
   "outputs": [],
   "execution_count": null
  },
  {
   "metadata": {},
   "cell_type": "code",
   "source": [
    "books_rating_sample = books_rating.sample(fraction=sample, seed=42)\n",
    "books_rating_sample.show(5)\n",
    "books_rating_sample.count()"
   ],
   "id": "c1caef794a13d7d1",
   "outputs": [],
   "execution_count": null
  },
  {
   "metadata": {},
   "cell_type": "markdown",
   "source": [
    "# Checking for null values in the 'review/text' column\n",
    "Since we are using text data, we need to check for null values in the 'review/text' column in order to take a decision on how to handle them."
   ],
   "id": "dcb6e82c7d972535"
  },
  {
   "metadata": {},
   "cell_type": "code",
   "source": [
    "# Check for null values in the 'review/text' column\n",
    "null_rows_df = books_rating.filter(\n",
    "    books_rating['review/text'].isNull() | (books_rating['review/text'].rlike('^\\\\s*$'))\n",
    ")\n",
    "\n",
    "null_rows_df.show(30)"
   ],
   "id": "dcf56755a2c3a6d5",
   "outputs": [],
   "execution_count": null
  },
  {
   "metadata": {},
   "cell_type": "markdown",
   "source": [
    "Since the 'review/text' null values are more or less duplicates. \n",
    "\n",
    "They share the same columns, besides the identifiers and the Title. Although the Title is not the same, with a qualitative check we can see they are about the same book."
   ],
   "id": "13b84fb5ae57aa62"
  },
  {
   "metadata": {},
   "cell_type": "code",
   "source": [
    "from pyspark.sql.functions import col\n",
    "filtered_df = books_rating.filter(\n",
    "    col(\"Title\").contains(\"Lord of the Rings\")\n",
    ").select(\"Title\", \"review/text\").limit(100)\n",
    "\n",
    "# Show the result\n",
    "filtered_df.show(100, truncate=False)"
   ],
   "id": "5885180066a66507",
   "outputs": [],
   "execution_count": null
  },
  {
   "metadata": {},
   "cell_type": "markdown",
   "source": "There are many others Lord of The Rings reviews. I think we can't discard the NA values and it's better to keep them. We can use also the Title as similarity check.",
   "id": "6dcd6513675d7e10"
  },
  {
   "metadata": {},
   "cell_type": "markdown",
   "source": "",
   "id": "a2cdb61db5f854cf"
  },
  {
   "metadata": {},
   "cell_type": "code",
   "source": [
    "# Check for null values in the 'review/text' column\n",
    "null_rows_df_sample = books_rating_sample.filter(\n",
    "    books_rating_sample['review/text'].isNull() | (books_rating_sample['review/text'].rlike('^\\\\s*$'))\n",
    ")\n",
    "\n",
    "null_rows_df_sample.show(30)"
   ],
   "id": "45b44dde088bb228",
   "outputs": [],
   "execution_count": null
  },
  {
   "metadata": {},
   "cell_type": "markdown",
   "source": "The is a null value in the subsample",
   "id": "fbdccfaafc82187e"
  },
  {
   "metadata": {},
   "cell_type": "markdown",
   "source": "# Working with the subsample",
   "id": "533cd4951d48f00d"
  },
  {
   "metadata": {},
   "cell_type": "markdown",
   "source": [
    "## Jaccard Similarity Approach\n",
    "Since the dataset is too big, I will use a subsample of the dataset to test the Jaccard Similarity approach, for test purposes. I will then try top scale it to the full dataset.\n",
    "In addition, I will use the MapReduce approach to parallelize the computation of the Jaccard Similarity."
   ],
   "id": "1072c0152b9ecab2"
  },
  {
   "metadata": {},
   "cell_type": "code",
   "source": [
    "from pyspark.ml.feature import RegexTokenizer, StopWordsRemover\n",
    "from pyspark.sql.functions import col, udf\n",
    "from pyspark.sql.types import ArrayType, StringType"
   ],
   "id": "5885315f727b57eb",
   "outputs": [],
   "execution_count": null
  },
  {
   "metadata": {},
   "cell_type": "code",
   "source": "tokenizer = RegexTokenizer(inputCol=\"review/text\", outputCol=\"reviews/tokens\", pattern=\"\\\\W\") # \\\\W is a regex pattern that matches any non-word character",
   "id": "c6be9ffd0f620cb9",
   "outputs": [],
   "execution_count": null
  },
  {
   "metadata": {},
   "cell_type": "markdown",
   "source": "It tokenizes the text into words. I am trying this approach because I believe it will be faster then some neural network based approach, since this use sparks. It will have some limitations, since it does not take in account of compound words, but I think it will be good for the first approach.",
   "id": "d1275a324da74d22"
  },
  {
   "metadata": {},
   "cell_type": "code",
   "source": "stopwords_remover = StopWordsRemover(inputCol=\"reviews/tokens\", outputCol=\"tokens/nostopwords\")",
   "id": "1fca258eea1e93f1",
   "outputs": [],
   "execution_count": null
  },
  {
   "metadata": {},
   "cell_type": "markdown",
   "source": "StopWordsRemover() uses a predefined list of stop words in English. It removes common words that do not carry much meaning, such as \"the\", \"is\", \"in\", etc. This is important, since the Jaccard Similarity is based on the number of common words between two texts. If we don't remove the stop words, the Jaccard Similarity will be biased by the number of stop words in the texts, which are not relevant for the meaning of the texts.",
   "id": "87c07acc08025c2c"
  },
  {
   "metadata": {},
   "cell_type": "code",
   "source": [
    "def remove_numbers(tokens):\n",
    "    return [token for token in tokens if not token.isdigit()]"
   ],
   "id": "4707a6f993b28803",
   "outputs": [],
   "execution_count": null
  },
  {
   "metadata": {},
   "cell_type": "markdown",
   "source": "Numbers are often not relevant for the meaning of a review. In our dataset, the score is stored in a separated column, so we can remove the numbers from the text.",
   "id": "593cab392a6b24df"
  },
  {
   "metadata": {},
   "cell_type": "code",
   "source": "remove_numbers_udf = udf(remove_numbers, ArrayType(StringType())) # Specify the return type as ArrayType(StringType), meaning an array/list of strings",
   "id": "5a62598dcf6f25a2",
   "outputs": [],
   "execution_count": null
  },
  {
   "metadata": {},
   "cell_type": "markdown",
   "source": "Sparks does not work as a Python object, so we need UDF (user defined function) to use it in the pipeline.",
   "id": "c55d3aa47c162dab"
  },
  {
   "metadata": {},
   "cell_type": "code",
   "source": [
    "tokenized_books_rating_sample = tokenizer.transform(books_rating_sample) # Apply the tokenizer to the dataset\n",
    "tokenized_reviews_nostopwords_sample = stopwords_remover.transform(tokenized_books_rating_sample) # Remove the stop words from the tokenized dataset\n",
    "tokenized_rw_nsw_nn_sample = tokenized_reviews_nostopwords_sample.withColumn(\"tokens/nostopwords/nonumbers\", remove_numbers_udf(col(\"tokens/nostopwords\"))) # Remove the numbers from the dataset"
   ],
   "id": "ddaa3e8ad4c3282",
   "outputs": [],
   "execution_count": null
  },
  {
   "metadata": {},
   "cell_type": "code",
   "source": "tokenized_rw_nsw_nn_sample.show(10)",
   "id": "337bce825f5607c6",
   "outputs": [],
   "execution_count": null
  }
 ],
 "metadata": {
  "kernelspec": {
   "display_name": "Python 3.12 (myenv)",
   "language": "python",
   "name": "myenv"
>>>>>>> Stashed changes
  },
  "nbformat": 4,
  "nbformat_minor": 5
}